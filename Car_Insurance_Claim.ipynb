{
 "cells": [
  {
   "cell_type": "code",
   "execution_count": 1,
   "id": "1bd7c75d",
   "metadata": {},
   "outputs": [],
   "source": [
    "## Getting the libraries\n",
    "import numpy as np # linear algebra\n",
    "import pandas as pd # data processing, CSV file I/O (e.g. pd.read_csv)\n",
    "import matplotlib.pyplot as plt # data visualization\n",
    "import seaborn as sns # statistical data visualization\n",
    "import missingno as msno\n",
    "import warnings\n",
    "\n",
    "warnings.filterwarnings('ignore')"
   ]
  },
  {
   "cell_type": "code",
   "execution_count": 2,
   "id": "ded0ea6d",
   "metadata": {},
   "outputs": [],
   "source": [
    "## Getting the data\n",
    "df= pd. read_csv(\"/Datasets/Car_Insurance_Claim.csv\")"
   ]
  },
  {
   "cell_type": "code",
   "execution_count": 3,
   "id": "a2a93936",
   "metadata": {},
   "outputs": [],
   "source": [
    "## Changing data types of columns\n",
    "df[\"AGE\"]=df[\"AGE\"].astype(\"category\")\n",
    "df[\"GENDER\"]=df[\"GENDER\"].astype(\"category\")\n",
    "df[\"RACE\"]=df[\"RACE\"].astype(\"category\")\n",
    "df[\"DRIVING_EXPERIENCE\"]=df[\"DRIVING_EXPERIENCE\"].astype(\"category\")\n",
    "df[\"EDUCATION\"]=df[\"EDUCATION\"].astype(\"category\")\n",
    "df[\"INCOME\"]=df[\"INCOME\"].astype(\"category\")\n",
    "df[\"VEHICLE_YEAR\"]=df[\"VEHICLE_YEAR\"].astype(\"category\")\n",
    "df[\"VEHICLE_TYPE\"]=df[\"VEHICLE_TYPE\"].astype(\"category\")\n",
    "df[\"INCOME\"]=df[\"INCOME\"].astype(\"category\")\n",
    "df[\"POSTAL_CODE\"]=df[\"POSTAL_CODE\"].astype(\"category\")\n",
    "df[\"MARRIED\"]=df[\"MARRIED\"].astype(\"category\")\n",
    "df[\"OUTCOME\"]=df[\"OUTCOME\"].astype(\"category\")\n",
    "df[\"VEHICLE_OWNERSHIP\"]=df[\"VEHICLE_OWNERSHIP\"].astype(\"category\")\n",
    "df[\"CHILDREN\"]=df[\"CHILDREN\"].astype(\"category\")"
   ]
  },
  {
   "cell_type": "code",
   "execution_count": 4,
   "id": "049f0190",
   "metadata": {},
   "outputs": [],
   "source": [
    "##Dropping the ID variable\n",
    "df=df.drop(\"ID\",axis=1)\n"
   ]
  },
  {
   "cell_type": "code",
   "execution_count": 5,
   "id": "28052bf9",
   "metadata": {},
   "outputs": [
    {
     "data": {
      "text/plain": [
       "<AxesSubplot:title={'center':'Distribution of POSTAL_CODE'}>"
      ]
     },
     "execution_count": 5,
     "metadata": {},
     "output_type": "execute_result"
    },
    {
     "data": {
      "image/png": "[encoded data removed]",
      "text/plain": [
       "<Figure size 432x288 with 1 Axes>"
      ]
     },
     "metadata": {
      "needs_background": "light"
     },
     "output_type": "display_data"
    }
   ],
   "source": [
    "## Checking the POSTAL_CODE\n",
    "df['POSTAL_CODE'].value_counts().plot(kind=\"bar\", title=\"Distribution of POSTAL_CODE\")\n",
    "## We need to POSTAL_CODE to categorical datatype as there are only four postal codes. \n",
    "## But we cannot predict the response for new postal codes with this model."
   ]
  },
  {
   "cell_type": "code",
   "execution_count": null,
   "id": "f1744ad5",
   "metadata": {},
   "outputs": [],
   "source": [
    "## Can add Extrpolatory Data Analysis\n",
    "########################################"
   ]
  },
  {
   "cell_type": "code",
   "execution_count": 6,
   "id": "fbb4bb62",
   "metadata": {},
   "outputs": [],
   "source": [
    "## Import libraries for missing value imputation\n",
    "import miceforest as mf\n",
    "import random\n",
    "import sklearn.neighbors._base \n",
    "import sys\n",
    "sys.modules['sklearn.neighbors.base'] = sklearn.neighbors._base\n",
    "from missingpy import MissForest\n",
    "from sklearn.impute import KNNImputer"
   ]
  },
  {
   "cell_type": "code",
   "execution_count": 7,
   "id": "ed680ce3",
   "metadata": {},
   "outputs": [
    {
     "name": "stdout",
     "output_type": "stream",
     "text": [
      "Initialized logger with name mice 1-5\n",
      "Dataset 0\n",
      "1  | ANNUAL_MILEAGE | CREDIT_SCORE\n",
      "2  | ANNUAL_MILEAGE | CREDIT_SCORE\n",
      "3  | ANNUAL_MILEAGE | CREDIT_SCORE\n",
      "4  | ANNUAL_MILEAGE | CREDIT_SCORE\n",
      "5  | ANNUAL_MILEAGE | CREDIT_SCORE\n"
     ]
    }
   ],
   "source": [
    "kernel = mf.ImputationKernel(\n",
    "  data=df,\n",
    "  save_all_iterations=True,\n",
    "  random_state=1343\n",
    ")\n",
    "# Run the MICE algorithm for 3 iterations on each of the datasets\n",
    "kernel.mice(5,verbose=True)\n",
    "#print(kernel)\n",
    "completed_dataset = kernel.complete_data(dataset=0, inplace=False)"
   ]
  },
  {
   "cell_type": "code",
   "execution_count": 8,
   "id": "06a85a9b",
   "metadata": {},
   "outputs": [
    {
     "data": {
      "text/plain": [
       "AGE                    0\n",
       "GENDER                 0\n",
       "RACE                   0\n",
       "DRIVING_EXPERIENCE     0\n",
       "EDUCATION              0\n",
       "INCOME                 0\n",
       "CREDIT_SCORE           0\n",
       "VEHICLE_OWNERSHIP      0\n",
       "VEHICLE_YEAR           0\n",
       "MARRIED                0\n",
       "CHILDREN               0\n",
       "POSTAL_CODE            0\n",
       "ANNUAL_MILEAGE         0\n",
       "VEHICLE_TYPE           0\n",
       "SPEEDING_VIOLATIONS    0\n",
       "DUIS                   0\n",
       "PAST_ACCIDENTS         0\n",
       "OUTCOME                0\n",
       "dtype: int64"
      ]
     },
     "execution_count": 8,
     "metadata": {},
     "output_type": "execute_result"
    }
   ],
   "source": [
    "df=completed_dataset\n",
    "df.isna().sum()"
   ]
  },
  {
   "cell_type": "code",
   "execution_count": 9,
   "id": "811d8efe",
   "metadata": {},
   "outputs": [
    {
     "data": {
      "text/html": [
       "<div>\n",
       "<style scoped>\n",
       "    .dataframe tbody tr th:only-of-type {\n",
       "        vertical-align: middle;\n",
       "    }\n",
       "\n",
       "    .dataframe tbody tr th {\n",
       "        vertical-align: top;\n",
       "    }\n",
       "\n",
       "    .dataframe thead th {\n",
       "        text-align: right;\n",
       "    }\n",
       "</style>\n",
       "<table border=\"1\" class=\"dataframe\">\n",
       "  <thead>\n",
       "    <tr style=\"text-align: right;\">\n",
       "      <th></th>\n",
       "      <th>AGE</th>\n",
       "      <th>GENDER</th>\n",
       "      <th>RACE</th>\n",
       "      <th>DRIVING_EXPERIENCE</th>\n",
       "      <th>EDUCATION</th>\n",
       "      <th>INCOME</th>\n",
       "      <th>CREDIT_SCORE</th>\n",
       "      <th>VEHICLE_OWNERSHIP</th>\n",
       "      <th>VEHICLE_YEAR</th>\n",
       "      <th>MARRIED</th>\n",
       "      <th>CHILDREN</th>\n",
       "      <th>POSTAL_CODE</th>\n",
       "      <th>ANNUAL_MILEAGE</th>\n",
       "      <th>VEHICLE_TYPE</th>\n",
       "      <th>SPEEDING_VIOLATIONS</th>\n",
       "      <th>DUIS</th>\n",
       "      <th>PAST_ACCIDENTS</th>\n",
       "      <th>OUTCOME</th>\n",
       "    </tr>\n",
       "  </thead>\n",
       "  <tbody>\n",
       "    <tr>\n",
       "      <th>0</th>\n",
       "      <td>65+</td>\n",
       "      <td>female</td>\n",
       "      <td>majority</td>\n",
       "      <td>0-9y</td>\n",
       "      <td>high school</td>\n",
       "      <td>upper class</td>\n",
       "      <td>0.629027</td>\n",
       "      <td>1.0</td>\n",
       "      <td>after 2015</td>\n",
       "      <td>0.0</td>\n",
       "      <td>1.0</td>\n",
       "      <td>10238</td>\n",
       "      <td>12000.0</td>\n",
       "      <td>sedan</td>\n",
       "      <td>0</td>\n",
       "      <td>0</td>\n",
       "      <td>0</td>\n",
       "      <td>0.0</td>\n",
       "    </tr>\n",
       "    <tr>\n",
       "      <th>1</th>\n",
       "      <td>16-25</td>\n",
       "      <td>male</td>\n",
       "      <td>majority</td>\n",
       "      <td>0-9y</td>\n",
       "      <td>none</td>\n",
       "      <td>poverty</td>\n",
       "      <td>0.357757</td>\n",
       "      <td>0.0</td>\n",
       "      <td>before 2015</td>\n",
       "      <td>0.0</td>\n",
       "      <td>0.0</td>\n",
       "      <td>10238</td>\n",
       "      <td>16000.0</td>\n",
       "      <td>sedan</td>\n",
       "      <td>0</td>\n",
       "      <td>0</td>\n",
       "      <td>0</td>\n",
       "      <td>1.0</td>\n",
       "    </tr>\n",
       "    <tr>\n",
       "      <th>2</th>\n",
       "      <td>16-25</td>\n",
       "      <td>female</td>\n",
       "      <td>majority</td>\n",
       "      <td>0-9y</td>\n",
       "      <td>high school</td>\n",
       "      <td>working class</td>\n",
       "      <td>0.493146</td>\n",
       "      <td>1.0</td>\n",
       "      <td>before 2015</td>\n",
       "      <td>0.0</td>\n",
       "      <td>0.0</td>\n",
       "      <td>10238</td>\n",
       "      <td>11000.0</td>\n",
       "      <td>sedan</td>\n",
       "      <td>0</td>\n",
       "      <td>0</td>\n",
       "      <td>0</td>\n",
       "      <td>0.0</td>\n",
       "    </tr>\n",
       "    <tr>\n",
       "      <th>3</th>\n",
       "      <td>16-25</td>\n",
       "      <td>male</td>\n",
       "      <td>majority</td>\n",
       "      <td>0-9y</td>\n",
       "      <td>university</td>\n",
       "      <td>working class</td>\n",
       "      <td>0.206013</td>\n",
       "      <td>1.0</td>\n",
       "      <td>before 2015</td>\n",
       "      <td>0.0</td>\n",
       "      <td>1.0</td>\n",
       "      <td>32765</td>\n",
       "      <td>11000.0</td>\n",
       "      <td>sedan</td>\n",
       "      <td>0</td>\n",
       "      <td>0</td>\n",
       "      <td>0</td>\n",
       "      <td>0.0</td>\n",
       "    </tr>\n",
       "    <tr>\n",
       "      <th>4</th>\n",
       "      <td>26-39</td>\n",
       "      <td>male</td>\n",
       "      <td>majority</td>\n",
       "      <td>10-19y</td>\n",
       "      <td>none</td>\n",
       "      <td>working class</td>\n",
       "      <td>0.388366</td>\n",
       "      <td>1.0</td>\n",
       "      <td>before 2015</td>\n",
       "      <td>0.0</td>\n",
       "      <td>0.0</td>\n",
       "      <td>32765</td>\n",
       "      <td>12000.0</td>\n",
       "      <td>sedan</td>\n",
       "      <td>2</td>\n",
       "      <td>0</td>\n",
       "      <td>1</td>\n",
       "      <td>1.0</td>\n",
       "    </tr>\n",
       "  </tbody>\n",
       "</table>\n",
       "</div>"
      ],
      "text/plain": [
       "     AGE  GENDER      RACE DRIVING_EXPERIENCE    EDUCATION         INCOME  \\\n",
       "0    65+  female  majority               0-9y  high school    upper class   \n",
       "1  16-25    male  majority               0-9y         none        poverty   \n",
       "2  16-25  female  majority               0-9y  high school  working class   \n",
       "3  16-25    male  majority               0-9y   university  working class   \n",
       "4  26-39    male  majority             10-19y         none  working class   \n",
       "\n",
       "   CREDIT_SCORE VEHICLE_OWNERSHIP VEHICLE_YEAR MARRIED CHILDREN POSTAL_CODE  \\\n",
       "0      0.629027               1.0   after 2015     0.0      1.0       10238   \n",
       "1      0.357757               0.0  before 2015     0.0      0.0       10238   \n",
       "2      0.493146               1.0  before 2015     0.0      0.0       10238   \n",
       "3      0.206013               1.0  before 2015     0.0      1.0       32765   \n",
       "4      0.388366               1.0  before 2015     0.0      0.0       32765   \n",
       "\n",
       "   ANNUAL_MILEAGE VEHICLE_TYPE  SPEEDING_VIOLATIONS  DUIS  PAST_ACCIDENTS  \\\n",
       "0         12000.0        sedan                    0     0               0   \n",
       "1         16000.0        sedan                    0     0               0   \n",
       "2         11000.0        sedan                    0     0               0   \n",
       "3         11000.0        sedan                    0     0               0   \n",
       "4         12000.0        sedan                    2     0               1   \n",
       "\n",
       "  OUTCOME  \n",
       "0     0.0  \n",
       "1     1.0  \n",
       "2     0.0  \n",
       "3     0.0  \n",
       "4     1.0  "
      ]
     },
     "execution_count": 9,
     "metadata": {},
     "output_type": "execute_result"
    }
   ],
   "source": [
    "## df_c complete df\n",
    "df_c=df\n",
    "df_c.head()"
   ]
  },
  {
   "cell_type": "code",
   "execution_count": 10,
   "id": "29720a7b",
   "metadata": {},
   "outputs": [],
   "source": [
    "# change the labels in MARRIED and CHILDREN column\n",
    "df_c[\"MARRIED\"]=df_c[\"MARRIED\"].map({1: \"MARRIED\",0:\"UNMARRIED\"})\n",
    "df_c[\"CHILDREN\"]=df_c[\"CHILDREN\"].map({1: \"YES\",0:\"NO\"})"
   ]
  },
  {
   "cell_type": "code",
   "execution_count": 11,
   "id": "11398d12",
   "metadata": {},
   "outputs": [
    {
     "name": "stdout",
     "output_type": "stream",
     "text": [
      "<class 'pandas.core.frame.DataFrame'>\n",
      "RangeIndex: 10000 entries, 0 to 9999\n",
      "Data columns (total 18 columns):\n",
      " #   Column               Non-Null Count  Dtype   \n",
      "---  ------               --------------  -----   \n",
      " 0   AGE                  10000 non-null  category\n",
      " 1   GENDER               10000 non-null  category\n",
      " 2   RACE                 10000 non-null  category\n",
      " 3   DRIVING_EXPERIENCE   10000 non-null  category\n",
      " 4   EDUCATION            10000 non-null  category\n",
      " 5   INCOME               10000 non-null  category\n",
      " 6   CREDIT_SCORE         10000 non-null  float64 \n",
      " 7   VEHICLE_OWNERSHIP    10000 non-null  category\n",
      " 8   VEHICLE_YEAR         10000 non-null  category\n",
      " 9   MARRIED              10000 non-null  category\n",
      " 10  CHILDREN             10000 non-null  category\n",
      " 11  POSTAL_CODE          10000 non-null  category\n",
      " 12  ANNUAL_MILEAGE       10000 non-null  float64 \n",
      " 13  VEHICLE_TYPE         10000 non-null  category\n",
      " 14  SPEEDING_VIOLATIONS  10000 non-null  int64   \n",
      " 15  DUIS                 10000 non-null  int64   \n",
      " 16  PAST_ACCIDENTS       10000 non-null  int64   \n",
      " 17  OUTCOME              10000 non-null  category\n",
      "dtypes: category(13), float64(2), int64(3)\n",
      "memory usage: 519.6 KB\n"
     ]
    }
   ],
   "source": [
    "df_c.info()"
   ]
  },
  {
   "cell_type": "code",
   "execution_count": 12,
   "id": "a66fd4ac",
   "metadata": {},
   "outputs": [
    {
     "data": {
      "text/plain": [
       "UNMARRIED    5018\n",
       "MARRIED      4982\n",
       "Name: MARRIED, dtype: int64"
      ]
     },
     "execution_count": 12,
     "metadata": {},
     "output_type": "execute_result"
    }
   ],
   "source": [
    "df_c[\"MARRIED\"].value_counts()"
   ]
  },
  {
   "cell_type": "code",
   "execution_count": 13,
   "id": "b953268f",
   "metadata": {},
   "outputs": [
    {
     "data": {
      "text/plain": [
       "YES    6888\n",
       "NO     3112\n",
       "Name: CHILDREN, dtype: int64"
      ]
     },
     "execution_count": 13,
     "metadata": {},
     "output_type": "execute_result"
    }
   ],
   "source": [
    "df_c[\"CHILDREN\"].value_counts()"
   ]
  },
  {
   "cell_type": "code",
   "execution_count": 38,
   "id": "4b7c6244",
   "metadata": {},
   "outputs": [],
   "source": [
    "## Split the dataset\n",
    "from sklearn.model_selection import train_test_split, cross_val_score\n",
    "from sklearn.metrics import accuracy_score, classification_report\n",
    "\n",
    "## Dividing Predictors and Response \n",
    "X, y = df_c.iloc[:,:-1], df_c.iloc[:,-1]\n",
    "X_train, X_test, y_train, y_test= train_test_split(X, y,\n",
    "test_size=0.2, random_state=123)"
   ]
  },
  {
   "cell_type": "code",
   "execution_count": 39,
   "id": "edb71da5",
   "metadata": {},
   "outputs": [
    {
     "name": "stdout",
     "output_type": "stream",
     "text": [
      "There are 5 numerical variables\n",
      "\n",
      "The numerical variables are : ['CREDIT_SCORE', 'ANNUAL_MILEAGE', 'SPEEDING_VIOLATIONS', 'DUIS', 'PAST_ACCIDENTS']\n"
     ]
    }
   ],
   "source": [
    "# find numerical variables\n",
    "\n",
    "numerical = [var for var in df.columns if df_c[var].dtype!='category']\n",
    "\n",
    "print('There are {} numerical variables\\n'.format(len(numerical)))\n",
    "\n",
    "print('The numerical variables are :', numerical)"
   ]
  },
  {
   "cell_type": "code",
   "execution_count": 40,
   "id": "dd6efd51",
   "metadata": {},
   "outputs": [
    {
     "data": {
      "text/html": [
       "<div>\n",
       "<style scoped>\n",
       "    .dataframe tbody tr th:only-of-type {\n",
       "        vertical-align: middle;\n",
       "    }\n",
       "\n",
       "    .dataframe tbody tr th {\n",
       "        vertical-align: top;\n",
       "    }\n",
       "\n",
       "    .dataframe thead th {\n",
       "        text-align: right;\n",
       "    }\n",
       "</style>\n",
       "<table border=\"1\" class=\"dataframe\">\n",
       "  <thead>\n",
       "    <tr style=\"text-align: right;\">\n",
       "      <th></th>\n",
       "      <th>CREDIT_SCORE</th>\n",
       "      <th>ANNUAL_MILEAGE</th>\n",
       "      <th>SPEEDING_VIOLATIONS</th>\n",
       "      <th>DUIS</th>\n",
       "      <th>PAST_ACCIDENTS</th>\n",
       "      <th>16-25</th>\n",
       "      <th>26-39</th>\n",
       "      <th>40-64</th>\n",
       "      <th>65+</th>\n",
       "      <th>female</th>\n",
       "      <th>...</th>\n",
       "      <th>UNMARRIED</th>\n",
       "      <th>MARRIED</th>\n",
       "      <th>NO</th>\n",
       "      <th>YES</th>\n",
       "      <th>10238</th>\n",
       "      <th>21217</th>\n",
       "      <th>32765</th>\n",
       "      <th>92101</th>\n",
       "      <th>sedan</th>\n",
       "      <th>sports car</th>\n",
       "    </tr>\n",
       "  </thead>\n",
       "  <tbody>\n",
       "    <tr>\n",
       "      <th>9216</th>\n",
       "      <td>0.424541</td>\n",
       "      <td>11000.0</td>\n",
       "      <td>0</td>\n",
       "      <td>0</td>\n",
       "      <td>0</td>\n",
       "      <td>0</td>\n",
       "      <td>1</td>\n",
       "      <td>0</td>\n",
       "      <td>0</td>\n",
       "      <td>1</td>\n",
       "      <td>...</td>\n",
       "      <td>1</td>\n",
       "      <td>0</td>\n",
       "      <td>0</td>\n",
       "      <td>1</td>\n",
       "      <td>1</td>\n",
       "      <td>0</td>\n",
       "      <td>0</td>\n",
       "      <td>0</td>\n",
       "      <td>0</td>\n",
       "      <td>1</td>\n",
       "    </tr>\n",
       "    <tr>\n",
       "      <th>7324</th>\n",
       "      <td>0.329616</td>\n",
       "      <td>14000.0</td>\n",
       "      <td>0</td>\n",
       "      <td>0</td>\n",
       "      <td>0</td>\n",
       "      <td>0</td>\n",
       "      <td>1</td>\n",
       "      <td>0</td>\n",
       "      <td>0</td>\n",
       "      <td>1</td>\n",
       "      <td>...</td>\n",
       "      <td>1</td>\n",
       "      <td>0</td>\n",
       "      <td>0</td>\n",
       "      <td>1</td>\n",
       "      <td>1</td>\n",
       "      <td>0</td>\n",
       "      <td>0</td>\n",
       "      <td>0</td>\n",
       "      <td>1</td>\n",
       "      <td>0</td>\n",
       "    </tr>\n",
       "    <tr>\n",
       "      <th>918</th>\n",
       "      <td>0.359176</td>\n",
       "      <td>13000.0</td>\n",
       "      <td>0</td>\n",
       "      <td>0</td>\n",
       "      <td>0</td>\n",
       "      <td>1</td>\n",
       "      <td>0</td>\n",
       "      <td>0</td>\n",
       "      <td>0</td>\n",
       "      <td>0</td>\n",
       "      <td>...</td>\n",
       "      <td>0</td>\n",
       "      <td>1</td>\n",
       "      <td>1</td>\n",
       "      <td>0</td>\n",
       "      <td>0</td>\n",
       "      <td>0</td>\n",
       "      <td>1</td>\n",
       "      <td>0</td>\n",
       "      <td>1</td>\n",
       "      <td>0</td>\n",
       "    </tr>\n",
       "    <tr>\n",
       "      <th>5902</th>\n",
       "      <td>0.647323</td>\n",
       "      <td>11000.0</td>\n",
       "      <td>5</td>\n",
       "      <td>0</td>\n",
       "      <td>5</td>\n",
       "      <td>0</td>\n",
       "      <td>0</td>\n",
       "      <td>1</td>\n",
       "      <td>0</td>\n",
       "      <td>1</td>\n",
       "      <td>...</td>\n",
       "      <td>0</td>\n",
       "      <td>1</td>\n",
       "      <td>0</td>\n",
       "      <td>1</td>\n",
       "      <td>1</td>\n",
       "      <td>0</td>\n",
       "      <td>0</td>\n",
       "      <td>0</td>\n",
       "      <td>1</td>\n",
       "      <td>0</td>\n",
       "    </tr>\n",
       "    <tr>\n",
       "      <th>2807</th>\n",
       "      <td>0.713374</td>\n",
       "      <td>10000.0</td>\n",
       "      <td>4</td>\n",
       "      <td>0</td>\n",
       "      <td>1</td>\n",
       "      <td>0</td>\n",
       "      <td>0</td>\n",
       "      <td>1</td>\n",
       "      <td>0</td>\n",
       "      <td>0</td>\n",
       "      <td>...</td>\n",
       "      <td>1</td>\n",
       "      <td>0</td>\n",
       "      <td>1</td>\n",
       "      <td>0</td>\n",
       "      <td>1</td>\n",
       "      <td>0</td>\n",
       "      <td>0</td>\n",
       "      <td>0</td>\n",
       "      <td>1</td>\n",
       "      <td>0</td>\n",
       "    </tr>\n",
       "  </tbody>\n",
       "</table>\n",
       "<p>5 rows × 38 columns</p>\n",
       "</div>"
      ],
      "text/plain": [
       "      CREDIT_SCORE  ANNUAL_MILEAGE  SPEEDING_VIOLATIONS  DUIS  PAST_ACCIDENTS  \\\n",
       "9216      0.424541         11000.0                    0     0               0   \n",
       "7324      0.329616         14000.0                    0     0               0   \n",
       "918       0.359176         13000.0                    0     0               0   \n",
       "5902      0.647323         11000.0                    5     0               5   \n",
       "2807      0.713374         10000.0                    4     0               1   \n",
       "\n",
       "      16-25  26-39  40-64  65+  female  ...  UNMARRIED  MARRIED  NO  YES  \\\n",
       "9216      0      1      0    0       1  ...          1        0   0    1   \n",
       "7324      0      1      0    0       1  ...          1        0   0    1   \n",
       "918       1      0      0    0       0  ...          0        1   1    0   \n",
       "5902      0      0      1    0       1  ...          0        1   0    1   \n",
       "2807      0      0      1    0       0  ...          1        0   1    0   \n",
       "\n",
       "      10238  21217  32765  92101  sedan  sports car  \n",
       "9216      1      0      0      0      0           1  \n",
       "7324      1      0      0      0      1           0  \n",
       "918       0      0      1      0      1           0  \n",
       "5902      1      0      0      0      1           0  \n",
       "2807      1      0      0      0      1           0  \n",
       "\n",
       "[5 rows x 38 columns]"
      ]
     },
     "execution_count": 40,
     "metadata": {},
     "output_type": "execute_result"
    }
   ],
   "source": [
    "## Encoding Categorical Variables\n",
    "X_train=pd.concat([X_train[numerical],pd.get_dummies(X_train[\"AGE\"]),\n",
    "               pd.get_dummies(X_train.GENDER),\n",
    "              pd.get_dummies(X_train.RACE),\n",
    "               pd.get_dummies(X_train.DRIVING_EXPERIENCE),\n",
    "               pd.get_dummies(X_train.EDUCATION),\n",
    "               pd.get_dummies(X_train.INCOME),\n",
    "               pd.get_dummies(X_train.VEHICLE_OWNERSHIP),\n",
    "               pd.get_dummies(X_train.VEHICLE_YEAR),\n",
    "               pd.get_dummies(X_train.MARRIED),\n",
    "               pd.get_dummies(X_train.CHILDREN),\n",
    "               pd.get_dummies(X_train.POSTAL_CODE),\n",
    "               pd.get_dummies(X_train.VEHICLE_TYPE)],axis=1)\n",
    "X_train.head()"
   ]
  },
  {
   "cell_type": "code",
   "execution_count": 41,
   "id": "f4290dbb",
   "metadata": {},
   "outputs": [
    {
     "data": {
      "text/plain": [
       "Index([       'CREDIT_SCORE',      'ANNUAL_MILEAGE', 'SPEEDING_VIOLATIONS',\n",
       "                      'DUIS',      'PAST_ACCIDENTS',               '16-25',\n",
       "                     '26-39',               '40-64',                 '65+',\n",
       "                    'female',                'male',            'majority',\n",
       "                  'minority',                '0-9y',              '10-19y',\n",
       "                    '20-29y',                '30y+',         'high school',\n",
       "                      'none',          'university',        'middle class',\n",
       "                   'poverty',         'upper class',       'working class',\n",
       "                         0.0,                   1.0,          'after 2015',\n",
       "               'before 2015',           'UNMARRIED',             'MARRIED',\n",
       "                        'NO',                 'YES',                 10238,\n",
       "                       21217,                 32765,                 92101,\n",
       "                     'sedan',          'sports car'],\n",
       "      dtype='object')"
      ]
     },
     "execution_count": 41,
     "metadata": {},
     "output_type": "execute_result"
    }
   ],
   "source": [
    "X_train.columns"
   ]
  },
  {
   "cell_type": "code",
   "execution_count": 42,
   "id": "848b79cf",
   "metadata": {},
   "outputs": [
    {
     "data": {
      "text/html": [
       "<div>\n",
       "<style scoped>\n",
       "    .dataframe tbody tr th:only-of-type {\n",
       "        vertical-align: middle;\n",
       "    }\n",
       "\n",
       "    .dataframe tbody tr th {\n",
       "        vertical-align: top;\n",
       "    }\n",
       "\n",
       "    .dataframe thead th {\n",
       "        text-align: right;\n",
       "    }\n",
       "</style>\n",
       "<table border=\"1\" class=\"dataframe\">\n",
       "  <thead>\n",
       "    <tr style=\"text-align: right;\">\n",
       "      <th></th>\n",
       "      <th>CREDIT_SCORE</th>\n",
       "      <th>ANNUAL_MILEAGE</th>\n",
       "      <th>SPEEDING_VIOLATIONS</th>\n",
       "      <th>DUIS</th>\n",
       "      <th>PAST_ACCIDENTS</th>\n",
       "      <th>16-25</th>\n",
       "      <th>26-39</th>\n",
       "      <th>40-64</th>\n",
       "      <th>65+</th>\n",
       "      <th>female</th>\n",
       "      <th>...</th>\n",
       "      <th>UNMARRIED</th>\n",
       "      <th>MARRIED</th>\n",
       "      <th>NO</th>\n",
       "      <th>YES</th>\n",
       "      <th>10238</th>\n",
       "      <th>21217</th>\n",
       "      <th>32765</th>\n",
       "      <th>92101</th>\n",
       "      <th>sedan</th>\n",
       "      <th>sports car</th>\n",
       "    </tr>\n",
       "  </thead>\n",
       "  <tbody>\n",
       "    <tr>\n",
       "      <th>2656</th>\n",
       "      <td>0.819135</td>\n",
       "      <td>11000.0</td>\n",
       "      <td>0</td>\n",
       "      <td>0</td>\n",
       "      <td>0</td>\n",
       "      <td>0</td>\n",
       "      <td>0</td>\n",
       "      <td>0</td>\n",
       "      <td>1</td>\n",
       "      <td>1</td>\n",
       "      <td>...</td>\n",
       "      <td>0</td>\n",
       "      <td>1</td>\n",
       "      <td>0</td>\n",
       "      <td>1</td>\n",
       "      <td>0</td>\n",
       "      <td>0</td>\n",
       "      <td>0</td>\n",
       "      <td>1</td>\n",
       "      <td>1</td>\n",
       "      <td>0</td>\n",
       "    </tr>\n",
       "    <tr>\n",
       "      <th>445</th>\n",
       "      <td>0.644210</td>\n",
       "      <td>15000.0</td>\n",
       "      <td>0</td>\n",
       "      <td>0</td>\n",
       "      <td>0</td>\n",
       "      <td>0</td>\n",
       "      <td>0</td>\n",
       "      <td>1</td>\n",
       "      <td>0</td>\n",
       "      <td>1</td>\n",
       "      <td>...</td>\n",
       "      <td>0</td>\n",
       "      <td>1</td>\n",
       "      <td>1</td>\n",
       "      <td>0</td>\n",
       "      <td>1</td>\n",
       "      <td>0</td>\n",
       "      <td>0</td>\n",
       "      <td>0</td>\n",
       "      <td>1</td>\n",
       "      <td>0</td>\n",
       "    </tr>\n",
       "    <tr>\n",
       "      <th>9505</th>\n",
       "      <td>0.591927</td>\n",
       "      <td>9000.0</td>\n",
       "      <td>14</td>\n",
       "      <td>2</td>\n",
       "      <td>3</td>\n",
       "      <td>0</td>\n",
       "      <td>0</td>\n",
       "      <td>0</td>\n",
       "      <td>1</td>\n",
       "      <td>0</td>\n",
       "      <td>...</td>\n",
       "      <td>0</td>\n",
       "      <td>1</td>\n",
       "      <td>0</td>\n",
       "      <td>1</td>\n",
       "      <td>0</td>\n",
       "      <td>0</td>\n",
       "      <td>1</td>\n",
       "      <td>0</td>\n",
       "      <td>1</td>\n",
       "      <td>0</td>\n",
       "    </tr>\n",
       "    <tr>\n",
       "      <th>332</th>\n",
       "      <td>0.507691</td>\n",
       "      <td>7000.0</td>\n",
       "      <td>3</td>\n",
       "      <td>1</td>\n",
       "      <td>4</td>\n",
       "      <td>0</td>\n",
       "      <td>0</td>\n",
       "      <td>0</td>\n",
       "      <td>1</td>\n",
       "      <td>0</td>\n",
       "      <td>...</td>\n",
       "      <td>0</td>\n",
       "      <td>1</td>\n",
       "      <td>0</td>\n",
       "      <td>1</td>\n",
       "      <td>0</td>\n",
       "      <td>0</td>\n",
       "      <td>1</td>\n",
       "      <td>0</td>\n",
       "      <td>1</td>\n",
       "      <td>0</td>\n",
       "    </tr>\n",
       "    <tr>\n",
       "      <th>4168</th>\n",
       "      <td>0.440388</td>\n",
       "      <td>4000.0</td>\n",
       "      <td>3</td>\n",
       "      <td>1</td>\n",
       "      <td>0</td>\n",
       "      <td>0</td>\n",
       "      <td>0</td>\n",
       "      <td>1</td>\n",
       "      <td>0</td>\n",
       "      <td>0</td>\n",
       "      <td>...</td>\n",
       "      <td>0</td>\n",
       "      <td>1</td>\n",
       "      <td>0</td>\n",
       "      <td>1</td>\n",
       "      <td>0</td>\n",
       "      <td>0</td>\n",
       "      <td>1</td>\n",
       "      <td>0</td>\n",
       "      <td>1</td>\n",
       "      <td>0</td>\n",
       "    </tr>\n",
       "  </tbody>\n",
       "</table>\n",
       "<p>5 rows × 38 columns</p>\n",
       "</div>"
      ],
      "text/plain": [
       "      CREDIT_SCORE  ANNUAL_MILEAGE  SPEEDING_VIOLATIONS  DUIS  PAST_ACCIDENTS  \\\n",
       "2656      0.819135         11000.0                    0     0               0   \n",
       "445       0.644210         15000.0                    0     0               0   \n",
       "9505      0.591927          9000.0                   14     2               3   \n",
       "332       0.507691          7000.0                    3     1               4   \n",
       "4168      0.440388          4000.0                    3     1               0   \n",
       "\n",
       "      16-25  26-39  40-64  65+  female  ...  UNMARRIED  MARRIED  NO  YES  \\\n",
       "2656      0      0      0    1       1  ...          0        1   0    1   \n",
       "445       0      0      1    0       1  ...          0        1   1    0   \n",
       "9505      0      0      0    1       0  ...          0        1   0    1   \n",
       "332       0      0      0    1       0  ...          0        1   0    1   \n",
       "4168      0      0      1    0       0  ...          0        1   0    1   \n",
       "\n",
       "      10238  21217  32765  92101  sedan  sports car  \n",
       "2656      0      0      0      1      1           0  \n",
       "445       1      0      0      0      1           0  \n",
       "9505      0      0      1      0      1           0  \n",
       "332       0      0      1      0      1           0  \n",
       "4168      0      0      1      0      1           0  \n",
       "\n",
       "[5 rows x 38 columns]"
      ]
     },
     "execution_count": 42,
     "metadata": {},
     "output_type": "execute_result"
    }
   ],
   "source": [
    "X_test=pd.concat([X_test[numerical],pd.get_dummies(X_test[\"AGE\"]),\n",
    "               pd.get_dummies(X_test.GENDER),\n",
    "              pd.get_dummies(X_test.RACE),\n",
    "               pd.get_dummies(X_test.DRIVING_EXPERIENCE),\n",
    "               pd.get_dummies(X_test.EDUCATION),\n",
    "               pd.get_dummies(X_test.INCOME),\n",
    "               pd.get_dummies(X_test.VEHICLE_OWNERSHIP),\n",
    "               pd.get_dummies(X_test.VEHICLE_YEAR),\n",
    "               pd.get_dummies(X_test.MARRIED),\n",
    "               pd.get_dummies(X_test.CHILDREN),\n",
    "               pd.get_dummies(X_test.POSTAL_CODE),\n",
    "               pd.get_dummies(X_test.VEHICLE_TYPE)],axis=1)\n",
    "X_test.head()"
   ]
  },
  {
   "cell_type": "code",
   "execution_count": 43,
   "id": "7c859047",
   "metadata": {},
   "outputs": [],
   "source": [
    "## Normalizing numerical variables. The dummy variables for categorical variables will not be effected.\n",
    "\n",
    "cols = X_train.columns"
   ]
  },
  {
   "cell_type": "code",
   "execution_count": 44,
   "id": "349673a6",
   "metadata": {},
   "outputs": [],
   "source": [
    "from sklearn.preprocessing import MinMaxScaler\n",
    "\n",
    "scaler = MinMaxScaler()\n",
    "\n",
    "X_train = scaler.fit_transform(X_train)\n",
    "\n",
    "X_test = scaler.transform(X_test)"
   ]
  },
  {
   "cell_type": "code",
   "execution_count": 45,
   "id": "567a78da",
   "metadata": {},
   "outputs": [],
   "source": [
    "X_train = pd.DataFrame(X_train, columns=[cols])\n",
    "X_test = pd.DataFrame(X_test, columns=[cols])"
   ]
  },
  {
   "cell_type": "code",
   "execution_count": 46,
   "id": "f1361aaf",
   "metadata": {},
   "outputs": [
    {
     "data": {
      "text/html": [
       "<div>\n",
       "<style scoped>\n",
       "    .dataframe tbody tr th:only-of-type {\n",
       "        vertical-align: middle;\n",
       "    }\n",
       "\n",
       "    .dataframe tbody tr th {\n",
       "        vertical-align: top;\n",
       "    }\n",
       "\n",
       "    .dataframe thead tr th {\n",
       "        text-align: left;\n",
       "    }\n",
       "</style>\n",
       "<table border=\"1\" class=\"dataframe\">\n",
       "  <thead>\n",
       "    <tr>\n",
       "      <th></th>\n",
       "      <th>CREDIT_SCORE</th>\n",
       "      <th>ANNUAL_MILEAGE</th>\n",
       "      <th>SPEEDING_VIOLATIONS</th>\n",
       "      <th>DUIS</th>\n",
       "      <th>PAST_ACCIDENTS</th>\n",
       "      <th>16-25</th>\n",
       "      <th>26-39</th>\n",
       "      <th>40-64</th>\n",
       "      <th>65+</th>\n",
       "      <th>female</th>\n",
       "      <th>...</th>\n",
       "      <th>UNMARRIED</th>\n",
       "      <th>MARRIED</th>\n",
       "      <th>NO</th>\n",
       "      <th>YES</th>\n",
       "      <th>10238</th>\n",
       "      <th>21217</th>\n",
       "      <th>32765</th>\n",
       "      <th>92101</th>\n",
       "      <th>sedan</th>\n",
       "      <th>sports car</th>\n",
       "    </tr>\n",
       "  </thead>\n",
       "  <tbody>\n",
       "    <tr>\n",
       "      <th>0</th>\n",
       "      <td>0.409035</td>\n",
       "      <td>0.45</td>\n",
       "      <td>0.000000</td>\n",
       "      <td>0.0</td>\n",
       "      <td>0.000000</td>\n",
       "      <td>0.0</td>\n",
       "      <td>1.0</td>\n",
       "      <td>0.0</td>\n",
       "      <td>0.0</td>\n",
       "      <td>1.0</td>\n",
       "      <td>...</td>\n",
       "      <td>1.0</td>\n",
       "      <td>0.0</td>\n",
       "      <td>0.0</td>\n",
       "      <td>1.0</td>\n",
       "      <td>1.0</td>\n",
       "      <td>0.0</td>\n",
       "      <td>0.0</td>\n",
       "      <td>0.0</td>\n",
       "      <td>0.0</td>\n",
       "      <td>1.0</td>\n",
       "    </tr>\n",
       "    <tr>\n",
       "      <th>1</th>\n",
       "      <td>0.304430</td>\n",
       "      <td>0.60</td>\n",
       "      <td>0.000000</td>\n",
       "      <td>0.0</td>\n",
       "      <td>0.000000</td>\n",
       "      <td>0.0</td>\n",
       "      <td>1.0</td>\n",
       "      <td>0.0</td>\n",
       "      <td>0.0</td>\n",
       "      <td>1.0</td>\n",
       "      <td>...</td>\n",
       "      <td>1.0</td>\n",
       "      <td>0.0</td>\n",
       "      <td>0.0</td>\n",
       "      <td>1.0</td>\n",
       "      <td>1.0</td>\n",
       "      <td>0.0</td>\n",
       "      <td>0.0</td>\n",
       "      <td>0.0</td>\n",
       "      <td>1.0</td>\n",
       "      <td>0.0</td>\n",
       "    </tr>\n",
       "    <tr>\n",
       "      <th>2</th>\n",
       "      <td>0.337004</td>\n",
       "      <td>0.55</td>\n",
       "      <td>0.000000</td>\n",
       "      <td>0.0</td>\n",
       "      <td>0.000000</td>\n",
       "      <td>1.0</td>\n",
       "      <td>0.0</td>\n",
       "      <td>0.0</td>\n",
       "      <td>0.0</td>\n",
       "      <td>0.0</td>\n",
       "      <td>...</td>\n",
       "      <td>0.0</td>\n",
       "      <td>1.0</td>\n",
       "      <td>1.0</td>\n",
       "      <td>0.0</td>\n",
       "      <td>0.0</td>\n",
       "      <td>0.0</td>\n",
       "      <td>1.0</td>\n",
       "      <td>0.0</td>\n",
       "      <td>1.0</td>\n",
       "      <td>0.0</td>\n",
       "    </tr>\n",
       "    <tr>\n",
       "      <th>3</th>\n",
       "      <td>0.654535</td>\n",
       "      <td>0.45</td>\n",
       "      <td>0.227273</td>\n",
       "      <td>0.0</td>\n",
       "      <td>0.333333</td>\n",
       "      <td>0.0</td>\n",
       "      <td>0.0</td>\n",
       "      <td>1.0</td>\n",
       "      <td>0.0</td>\n",
       "      <td>1.0</td>\n",
       "      <td>...</td>\n",
       "      <td>0.0</td>\n",
       "      <td>1.0</td>\n",
       "      <td>0.0</td>\n",
       "      <td>1.0</td>\n",
       "      <td>1.0</td>\n",
       "      <td>0.0</td>\n",
       "      <td>0.0</td>\n",
       "      <td>0.0</td>\n",
       "      <td>1.0</td>\n",
       "      <td>0.0</td>\n",
       "    </tr>\n",
       "    <tr>\n",
       "      <th>4</th>\n",
       "      <td>0.727322</td>\n",
       "      <td>0.40</td>\n",
       "      <td>0.181818</td>\n",
       "      <td>0.0</td>\n",
       "      <td>0.066667</td>\n",
       "      <td>0.0</td>\n",
       "      <td>0.0</td>\n",
       "      <td>1.0</td>\n",
       "      <td>0.0</td>\n",
       "      <td>0.0</td>\n",
       "      <td>...</td>\n",
       "      <td>1.0</td>\n",
       "      <td>0.0</td>\n",
       "      <td>1.0</td>\n",
       "      <td>0.0</td>\n",
       "      <td>1.0</td>\n",
       "      <td>0.0</td>\n",
       "      <td>0.0</td>\n",
       "      <td>0.0</td>\n",
       "      <td>1.0</td>\n",
       "      <td>0.0</td>\n",
       "    </tr>\n",
       "  </tbody>\n",
       "</table>\n",
       "<p>5 rows × 38 columns</p>\n",
       "</div>"
      ],
      "text/plain": [
       "  CREDIT_SCORE ANNUAL_MILEAGE SPEEDING_VIOLATIONS DUIS PAST_ACCIDENTS 16-25  \\\n",
       "0     0.409035           0.45            0.000000  0.0       0.000000   0.0   \n",
       "1     0.304430           0.60            0.000000  0.0       0.000000   0.0   \n",
       "2     0.337004           0.55            0.000000  0.0       0.000000   1.0   \n",
       "3     0.654535           0.45            0.227273  0.0       0.333333   0.0   \n",
       "4     0.727322           0.40            0.181818  0.0       0.066667   0.0   \n",
       "\n",
       "  26-39 40-64  65+ female  ... UNMARRIED MARRIED   NO  YES 10238 21217 32765  \\\n",
       "0   1.0   0.0  0.0    1.0  ...       1.0     0.0  0.0  1.0   1.0   0.0   0.0   \n",
       "1   1.0   0.0  0.0    1.0  ...       1.0     0.0  0.0  1.0   1.0   0.0   0.0   \n",
       "2   0.0   0.0  0.0    0.0  ...       0.0     1.0  1.0  0.0   0.0   0.0   1.0   \n",
       "3   0.0   1.0  0.0    1.0  ...       0.0     1.0  0.0  1.0   1.0   0.0   0.0   \n",
       "4   0.0   1.0  0.0    0.0  ...       1.0     0.0  1.0  0.0   1.0   0.0   0.0   \n",
       "\n",
       "  92101 sedan sports car  \n",
       "0   0.0   0.0        1.0  \n",
       "1   0.0   1.0        0.0  \n",
       "2   0.0   1.0        0.0  \n",
       "3   0.0   1.0        0.0  \n",
       "4   0.0   1.0        0.0  \n",
       "\n",
       "[5 rows x 38 columns]"
      ]
     },
     "execution_count": 46,
     "metadata": {},
     "output_type": "execute_result"
    }
   ],
   "source": [
    "X_train.head()"
   ]
  },
  {
   "cell_type": "code",
   "execution_count": 78,
   "id": "9ae86a1d",
   "metadata": {},
   "outputs": [],
   "source": [
    "#!pip install imbalanced-learn"
   ]
  },
  {
   "cell_type": "code",
   "execution_count": 47,
   "id": "84fcc9a7",
   "metadata": {},
   "outputs": [],
   "source": [
    "## Oversampling , under sampling and SMOTE\n",
    "from imblearn.over_sampling import RandomOverSampler, SMOTE\n",
    "from imblearn.under_sampling import RandomUnderSampler\n",
    "from collections import Counter"
   ]
  },
  {
   "cell_type": "code",
   "execution_count": 48,
   "id": "46cdae9f",
   "metadata": {},
   "outputs": [
    {
     "data": {
      "text/plain": [
       "LogisticRegression(random_state=0, solver='liblinear')"
      ]
     },
     "execution_count": 48,
     "metadata": {},
     "output_type": "execute_result"
    }
   ],
   "source": [
    "from sklearn.linear_model import LogisticRegression\n",
    "from sklearn.metrics import confusion_matrix\n",
    "from sklearn.metrics import roc_curve\n",
    "from sklearn.metrics import roc_auc_score\n",
    "# fit the model without SMOTE\n",
    "logreg = LogisticRegression(solver='liblinear', random_state=0)\n",
    "\n",
    "logreg.fit(X_train, y_train)\n"
   ]
  },
  {
   "cell_type": "code",
   "execution_count": 49,
   "id": "ccb4bdd7",
   "metadata": {},
   "outputs": [
    {
     "name": "stdout",
     "output_type": "stream",
     "text": [
      "Model accuracy score: 0.8520\n",
      "Precision : 0.9003\n",
      "Recall or Sensitivity : 0.8819\n",
      "f1_score : 0.8910\n",
      "ROC AUC : 0.9236\n"
     ]
    },
    {
     "data": {
      "text/plain": [
       "<AxesSubplot:>"
      ]
     },
     "execution_count": 49,
     "metadata": {},
     "output_type": "execute_result"
    },
    {
     "data": {
      "image/png": "[encoded data removed]",
      "text/plain": [
       "<Figure size 432x288 with 2 Axes>"
      ]
     },
     "metadata": {
      "needs_background": "light"
     },
     "output_type": "display_data"
    }
   ],
   "source": [
    "y_pred_test = logreg.predict(X_test)\n",
    "y_pred1 = logreg.predict_proba(X_test)[:, 1]\n",
    "cm = confusion_matrix(y_test, y_pred_test)\n",
    "print('Model accuracy score: {0:0.4f}'. format(accuracy_score(y_test, y_pred_test)))\n",
    "TP = cm[0,0]\n",
    "TN = cm[1,1]\n",
    "FP = cm[0,1]\n",
    "FN = cm[1,0]\n",
    "# print precision score\n",
    "\n",
    "precision = TP / float(TP + FP)\n",
    "print('Precision : {0:0.4f}'.format(precision))\n",
    "recall = TP / float(TP + FN)\n",
    "\n",
    "print('Recall or Sensitivity : {0:0.4f}'.format(recall))\n",
    "## f1-score\n",
    "f1_score=2/((1/precision)+(1/recall))\n",
    "print('f1_score : {0:0.4f}'.format(f1_score))\n",
    "ROC_AUC = roc_auc_score(y_test, y_pred1)\n",
    "\n",
    "print('ROC AUC : {:.4f}'.format(ROC_AUC))\n",
    "# visualize confusion matrix with seaborn heatmap\n",
    "\n",
    "cm_matrix = pd.DataFrame(data=cm, columns=['Actual Positive:1', 'Actual Negative:0'], \n",
    "                                 index=['Predict Positive:1', 'Predict Negative:0'])\n",
    "\n",
    "sns.heatmap(cm_matrix, annot=True, fmt='d', cmap='YlGnBu')"
   ]
  },
  {
   "cell_type": "markdown",
   "id": "81900b56",
   "metadata": {},
   "source": [
    "## Taking care of imbalanced response\n",
    "Insurance data sets are predominantly imbalanced in terms of response as the number of claims are supposed to be very low in percentage. But this imbalance can affect our model. So, we use undersampling or oversampling method to balance the dataset. In this study, we are using SMOTE( Synthetic Minority Over Sampling Technique)."
   ]
  },
  {
   "cell_type": "code",
   "execution_count": 50,
   "id": "ebf90807",
   "metadata": {},
   "outputs": [
    {
     "name": "stdout",
     "output_type": "stream",
     "text": [
      "Before Counter({0.0: 5523, 1.0: 2477})\n"
     ]
    }
   ],
   "source": [
    "counter=Counter(y_train)\n",
    "print(\"Before\", counter)"
   ]
  },
  {
   "cell_type": "code",
   "execution_count": 51,
   "id": "3651cd39",
   "metadata": {},
   "outputs": [
    {
     "name": "stdout",
     "output_type": "stream",
     "text": [
      "After Counter({0.0: 5523, 1.0: 5523})\n"
     ]
    }
   ],
   "source": [
    "## Oversampling with SMOTE\n",
    "smt=SMOTE()\n",
    "X_train_sm,y_train_sm=smt.fit_resample(X_train,y_train)\n",
    "counter=Counter(y_train_sm)\n",
    "print(\"After\", counter)"
   ]
  },
  {
   "cell_type": "code",
   "execution_count": 52,
   "id": "eb21a7c9",
   "metadata": {},
   "outputs": [
    {
     "data": {
      "text/plain": [
       "LogisticRegression(random_state=0, solver='liblinear')"
      ]
     },
     "execution_count": 52,
     "metadata": {},
     "output_type": "execute_result"
    }
   ],
   "source": [
    "# train a logistic regression model on the training set\n",
    "from sklearn.linear_model import LogisticRegression\n",
    "\n",
    "\n",
    "# instantiate the model\n",
    "logreg = LogisticRegression(solver='liblinear', random_state=0)\n",
    "\n",
    "\n",
    "# fit the model with SMOTE\n",
    "logreg.fit(X_train_sm, y_train_sm)"
   ]
  },
  {
   "cell_type": "code",
   "execution_count": 102,
   "id": "e665b427",
   "metadata": {},
   "outputs": [],
   "source": [
    "#print(classification_report(y_test, y_pred_test))"
   ]
  },
  {
   "cell_type": "code",
   "execution_count": 53,
   "id": "fce1a62d",
   "metadata": {},
   "outputs": [
    {
     "name": "stdout",
     "output_type": "stream",
     "text": [
      "Model accuracy score: 0.8450\n",
      "Precision : 0.8333\n",
      "Recall or Sensitivity : 0.9287\n",
      "f1_score : 0.8784\n",
      "ROC AUC : 0.9234\n"
     ]
    },
    {
     "data": {
      "text/plain": [
       "<AxesSubplot:>"
      ]
     },
     "execution_count": 53,
     "metadata": {},
     "output_type": "execute_result"
    },
    {
     "data": {
      "image/png": "[encoded data removed]",
      "text/plain": [
       "<Figure size 432x288 with 2 Axes>"
      ]
     },
     "metadata": {
      "needs_background": "light"
     },
     "output_type": "display_data"
    }
   ],
   "source": [
    "from sklearn.metrics import accuracy_score\n",
    "y_pred_test = logreg.predict(X_test)\n",
    "y_pred1 = logreg.predict_proba(X_test)[:, 1]\n",
    "print('Model accuracy score: {0:0.4f}'. format(accuracy_score(y_test, y_pred_test)))\n",
    "cm = confusion_matrix(y_test, y_pred_test)\n",
    "TP = cm[0,0]\n",
    "TN = cm[1,1]\n",
    "FP = cm[0,1]\n",
    "FN = cm[1,0]\n",
    "# print precision score\n",
    "\n",
    "precision = TP / float(TP + FP)\n",
    "print('Precision : {0:0.4f}'.format(precision))\n",
    "recall = TP / float(TP + FN)\n",
    "\n",
    "print('Recall or Sensitivity : {0:0.4f}'.format(recall))\n",
    "## f1-score\n",
    "f1_score=2/((1/precision)+(1/recall))\n",
    "print('f1_score : {0:0.4f}'.format(f1_score))\n",
    "ROC_AUC = roc_auc_score(y_test, y_pred1)\n",
    "\n",
    "print('ROC AUC : {:.4f}'.format(ROC_AUC))\n",
    "# visualize confusion matrix with seaborn heatmap\n",
    "\n",
    "cm_matrix = pd.DataFrame(data=cm, columns=['Actual Positive:1', 'Actual Negative:0'], \n",
    "                                 index=['Predict Positive:1', 'Predict Negative:0'])\n",
    "\n",
    "sns.heatmap(cm_matrix, annot=True, fmt='d', cmap='YlGnBu')"
   ]
  },
  {
   "cell_type": "markdown",
   "id": "d6e95741",
   "metadata": {},
   "source": [
    "## DecisionTreeClassifier"
   ]
  },
  {
   "cell_type": "code",
   "execution_count": 54,
   "id": "145e3b90",
   "metadata": {},
   "outputs": [],
   "source": [
    "# import DecisionTreeClassifier\n",
    "\n",
    "from sklearn.tree import DecisionTreeClassifier"
   ]
  },
  {
   "cell_type": "code",
   "execution_count": 55,
   "id": "03fe9c64",
   "metadata": {},
   "outputs": [
    {
     "name": "stdout",
     "output_type": "stream",
     "text": [
      "Model accuracy score: 0.8420\n",
      "Precision : 0.8824\n",
      "Recall or Sensitivity : 0.8824\n",
      "f1_score : 0.8824\n",
      "ROC AUC : 0.9132\n"
     ]
    },
    {
     "data": {
      "text/plain": [
       "<AxesSubplot:>"
      ]
     },
     "execution_count": 55,
     "metadata": {},
     "output_type": "execute_result"
    },
    {
     "data": {
      "image/png": "[encoded data removed]",
      "text/plain": [
       "<Figure size 432x288 with 2 Axes>"
      ]
     },
     "metadata": {
      "needs_background": "light"
     },
     "output_type": "display_data"
    }
   ],
   "source": [
    "## DT without SMOTE\n",
    "\n",
    "DT = DecisionTreeClassifier(criterion='gini', max_depth=6, random_state=0)\n",
    "DT.fit(X_train, y_train)\n",
    "y_pred_test = DT.predict(X_test)\n",
    "y_pred1 = DT.predict_proba(X_test)[:, 1]\n",
    "print('Model accuracy score: {0:0.4f}'. format(accuracy_score(y_test, y_pred_test)))\n",
    "cm = confusion_matrix(y_test, y_pred_test)\n",
    "TP = cm[0,0]\n",
    "TN = cm[1,1]\n",
    "FP = cm[0,1]\n",
    "FN = cm[1,0]\n",
    "# print precision score\n",
    "\n",
    "precision = TP / float(TP + FP)\n",
    "print('Precision : {0:0.4f}'.format(precision))\n",
    "recall = TP / float(TP + FN)\n",
    "\n",
    "print('Recall or Sensitivity : {0:0.4f}'.format(recall))\n",
    "## f1-score\n",
    "f1_score=2/((1/precision)+(1/recall))\n",
    "print('f1_score : {0:0.4f}'.format(f1_score))\n",
    "ROC_AUC = roc_auc_score(y_test, y_pred1)\n",
    "\n",
    "print('ROC AUC : {:.4f}'.format(ROC_AUC))\n",
    "# visualize confusion matrix with seaborn heatmap\n",
    "\n",
    "cm_matrix = pd.DataFrame(data=cm, columns=['Actual Positive:1', 'Actual Negative:0'], \n",
    "                                 index=['Predict Positive:1', 'Predict Negative:0'])\n",
    "\n",
    "sns.heatmap(cm_matrix, annot=True, fmt='d', cmap='YlGnBu')"
   ]
  },
  {
   "cell_type": "code",
   "execution_count": 56,
   "id": "db9f52cb",
   "metadata": {},
   "outputs": [
    {
     "name": "stdout",
     "output_type": "stream",
     "text": [
      "Model accuracy score: 0.8265\n",
      "Precision : 0.8185\n",
      "Recall or Sensitivity : 0.9144\n",
      "f1_score : 0.8638\n",
      "ROC AUC : 0.9090\n"
     ]
    },
    {
     "data": {
      "text/plain": [
       "<AxesSubplot:>"
      ]
     },
     "execution_count": 56,
     "metadata": {},
     "output_type": "execute_result"
    },
    {
     "data": {
      "image/png": "[encoded data removed]",
      "text/plain": [
       "<Figure size 432x288 with 2 Axes>"
      ]
     },
     "metadata": {
      "needs_background": "light"
     },
     "output_type": "display_data"
    }
   ],
   "source": [
    "## DT with SMOTE\n",
    "\n",
    "DT = DecisionTreeClassifier(criterion='gini', max_depth=6, random_state=0)\n",
    "DT.fit(X_train_sm, y_train_sm)\n",
    "y_pred_test = DT.predict(X_test)\n",
    "y_pred1 = DT.predict_proba(X_test)[:, 1]\n",
    "print('Model accuracy score: {0:0.4f}'. format(accuracy_score(y_test, y_pred_test)))\n",
    "cm = confusion_matrix(y_test, y_pred_test)\n",
    "TP = cm[0,0]\n",
    "TN = cm[1,1]\n",
    "FP = cm[0,1]\n",
    "FN = cm[1,0]\n",
    "# print precision score\n",
    "\n",
    "precision = TP / float(TP + FP)\n",
    "print('Precision : {0:0.4f}'.format(precision))\n",
    "recall = TP / float(TP + FN)\n",
    "\n",
    "print('Recall or Sensitivity : {0:0.4f}'.format(recall))\n",
    "## f1-score\n",
    "f1_score=2/((1/precision)+(1/recall))\n",
    "print('f1_score : {0:0.4f}'.format(f1_score))\n",
    "ROC_AUC = roc_auc_score(y_test, y_pred1)\n",
    "\n",
    "print('ROC AUC : {:.4f}'.format(ROC_AUC))\n",
    "# visualize confusion matrix with seaborn heatmap\n",
    "\n",
    "cm_matrix = pd.DataFrame(data=cm, columns=['Actual Positive:1', 'Actual Negative:0'], \n",
    "                                 index=['Predict Positive:1', 'Predict Negative:0'])\n",
    "\n",
    "sns.heatmap(cm_matrix, annot=True, fmt='d', cmap='YlGnBu')"
   ]
  },
  {
   "cell_type": "markdown",
   "id": "bf397c41",
   "metadata": {},
   "source": [
    "## Random Forest Classifier"
   ]
  },
  {
   "cell_type": "code",
   "execution_count": 57,
   "id": "f994c24a",
   "metadata": {},
   "outputs": [
    {
     "name": "stdout",
     "output_type": "stream",
     "text": [
      "Model accuracy score: 0.8415\n",
      "Precision : 0.9018\n",
      "Recall or Sensitivity : 0.8676\n",
      "f1_score : 0.8843\n",
      "ROC AUC : 0.9146\n"
     ]
    },
    {
     "data": {
      "text/plain": [
       "<AxesSubplot:>"
      ]
     },
     "execution_count": 57,
     "metadata": {},
     "output_type": "execute_result"
    },
    {
     "data": {
      "image/png": "[encoded data removed]",
      "text/plain": [
       "<Figure size 432x288 with 2 Axes>"
      ]
     },
     "metadata": {
      "needs_background": "light"
     },
     "output_type": "display_data"
    }
   ],
   "source": [
    "# create the classifier with n_estimators = 100 with max_depth=6 \n",
    "\n",
    "# import Random Forest classifier\n",
    "\n",
    "from sklearn.ensemble import RandomForestClassifier\n",
    "\n",
    "# instantiate the classifier \n",
    "\n",
    "rfc = RandomForestClassifier(max_depth=6,n_estimators = 100, random_state=0)\n",
    "\n",
    "# fit the model without SMOTE\n",
    "\n",
    "rfc.fit(X_train, y_train)\n",
    "\n",
    "y_pred_test = rfc.predict(X_test)\n",
    "y_pred1 = rfc.predict_proba(X_test)[:, 1]\n",
    "cm = confusion_matrix(y_test, y_pred_test)\n",
    "print('Model accuracy score: {0:0.4f}'. format(accuracy_score(y_test, y_pred_test)))\n",
    "TP = cm[0,0]\n",
    "TN = cm[1,1]\n",
    "FP = cm[0,1]\n",
    "FN = cm[1,0]\n",
    "# print precision score\n",
    "\n",
    "precision = TP / float(TP + FP)\n",
    "print('Precision : {0:0.4f}'.format(precision))\n",
    "recall = TP / float(TP + FN)\n",
    "\n",
    "print('Recall or Sensitivity : {0:0.4f}'.format(recall))\n",
    "## f1-score\n",
    "f1_score=2/((1/precision)+(1/recall))\n",
    "print('f1_score : {0:0.4f}'.format(f1_score))\n",
    "ROC_AUC = roc_auc_score(y_test, y_pred1)\n",
    "\n",
    "print('ROC AUC : {:.4f}'.format(ROC_AUC))\n",
    "# visualize confusion matrix with seaborn heatmap\n",
    "\n",
    "cm_matrix = pd.DataFrame(data=cm, columns=['Actual Positive:1', 'Actual Negative:0'], \n",
    "                                 index=['Predict Positive:1', 'Predict Negative:0'])\n",
    "\n",
    "sns.heatmap(cm_matrix, annot=True, fmt='d', cmap='YlGnBu')\n"
   ]
  },
  {
   "cell_type": "code",
   "execution_count": 58,
   "id": "8a6d039d",
   "metadata": {},
   "outputs": [
    {
     "name": "stdout",
     "output_type": "stream",
     "text": [
      "Model accuracy score: 0.8425\n",
      "Precision : 0.8400\n",
      "Recall or Sensitivity : 0.9186\n",
      "f1_score : 0.8776\n",
      "ROC AUC : 0.9131\n"
     ]
    },
    {
     "data": {
      "text/plain": [
       "<AxesSubplot:>"
      ]
     },
     "execution_count": 58,
     "metadata": {},
     "output_type": "execute_result"
    },
    {
     "data": {
      "image/png": "[encoded data removed]",
      "text/plain": [
       "<Figure size 432x288 with 2 Axes>"
      ]
     },
     "metadata": {
      "needs_background": "light"
     },
     "output_type": "display_data"
    }
   ],
   "source": [
    "## With SMOTE\n",
    "# create the classifier with n_estimators = 100 with max_depth=6 \n",
    "\n",
    "# import Random Forest classifier\n",
    "\n",
    "from sklearn.ensemble import RandomForestClassifier\n",
    "\n",
    "# instantiate the classifier \n",
    "\n",
    "rfc = RandomForestClassifier(max_depth=6,n_estimators = 100, random_state=0)\n",
    "\n",
    "# fit the model\n",
    "\n",
    "rfc.fit(X_train_sm, y_train_sm)\n",
    "\n",
    "## Predict\n",
    "y_pred_test = rfc.predict(X_test)\n",
    "y_pred1 = rfc.predict_proba(X_test)[:, 1]\n",
    "cm = confusion_matrix(y_test, y_pred_test)\n",
    "print('Model accuracy score: {0:0.4f}'. format(accuracy_score(y_test, y_pred_test)))\n",
    "TP = cm[0,0]\n",
    "TN = cm[1,1]\n",
    "FP = cm[0,1]\n",
    "FN = cm[1,0]\n",
    "# print precision score\n",
    "\n",
    "precision = TP / float(TP + FP)\n",
    "print('Precision : {0:0.4f}'.format(precision))\n",
    "recall = TP / float(TP + FN)\n",
    "\n",
    "print('Recall or Sensitivity : {0:0.4f}'.format(recall))\n",
    "## f1-score\n",
    "f1_score=2/((1/precision)+(1/recall))\n",
    "print('f1_score : {0:0.4f}'.format(f1_score))\n",
    "ROC_AUC = roc_auc_score(y_test, y_pred1)\n",
    "\n",
    "print('ROC AUC : {:.4f}'.format(ROC_AUC))\n",
    "# visualize confusion matrix with seaborn heatmap\n",
    "\n",
    "cm_matrix = pd.DataFrame(data=cm, columns=['Actual Positive:1', 'Actual Negative:0'], \n",
    "                                 index=['Predict Positive:1', 'Predict Negative:0'])\n",
    "\n",
    "sns.heatmap(cm_matrix, annot=True, fmt='d', cmap='YlGnBu')\n",
    "\n"
   ]
  },
  {
   "cell_type": "code",
   "execution_count": 63,
   "id": "e9bdf366",
   "metadata": {},
   "outputs": [
    {
     "data": {
      "text/plain": [
       "0-9y                   0.174635\n",
       "PAST_ACCIDENTS         0.092800\n",
       "16-25                  0.086544\n",
       "0.0                    0.078385\n",
       "SPEEDING_VIOLATIONS    0.073807\n",
       "1.0                    0.062310\n",
       "after 2015             0.060351\n",
       "before 2015            0.055215\n",
       "20-29y                 0.039467\n",
       "poverty                0.028985\n",
       "21217                  0.027330\n",
       "upper class            0.025720\n",
       "26-39                  0.021003\n",
       "10-19y                 0.020853\n",
       "CREDIT_SCORE           0.019364\n",
       "10238                  0.017825\n",
       "UNMARRIED              0.014858\n",
       "MARRIED                0.014835\n",
       "male                   0.013460\n",
       "female                 0.012411\n",
       "30y+                   0.011894\n",
       "65+                    0.008417\n",
       "40-64                  0.008389\n",
       "DUIS                   0.006883\n",
       "ANNUAL_MILEAGE         0.004951\n",
       "32765                  0.003553\n",
       "YES                    0.003241\n",
       "NO                     0.003210\n",
       "working class          0.002722\n",
       "92101                  0.001631\n",
       "sedan                  0.000851\n",
       "majority               0.000821\n",
       "sports car             0.000667\n",
       "middle class           0.000647\n",
       "minority               0.000572\n",
       "university             0.000520\n",
       "high school            0.000486\n",
       "none                   0.000388\n",
       "dtype: float64"
      ]
     },
     "execution_count": 63,
     "metadata": {},
     "output_type": "execute_result"
    }
   ],
   "source": [
    "# view the feature scores\n",
    "\n",
    "feature_scores = pd.Series(rfc.feature_importances_, index=X_train.columns).sort_values(ascending=False)\n",
    "feature_scores\n",
    "\n",
    "## Looks like we can remove 'VEHICLE_TYPE, EDUCATION,RACE"
   ]
  },
  {
   "cell_type": "code",
   "execution_count": null,
   "id": "26776fe5",
   "metadata": {},
   "outputs": [],
   "source": []
  },
  {
   "cell_type": "code",
   "execution_count": 59,
   "id": "4ab3c283",
   "metadata": {},
   "outputs": [
    {
     "data": {
      "text/plain": [
       "XGBClassifier(base_score=None, booster=None, callbacks=None,\n",
       "              colsample_bylevel=None, colsample_bynode=None,\n",
       "              colsample_bytree=None, device='cuda', early_stopping_rounds=None,\n",
       "              enable_categorical=True, eval_metric=None, feature_types=None,\n",
       "              gamma=None, grow_policy=None, importance_type=None,\n",
       "              interaction_constraints=None, learning_rate=None, max_bin=None,\n",
       "              max_cat_threshold=None, max_cat_to_onehot=None,\n",
       "              max_delta_step=None, max_depth=None, max_leaves=None,\n",
       "              min_child_weight=None, missing=nan, monotone_constraints=None,\n",
       "              multi_strategy=None, n_estimators=None, n_jobs=None,\n",
       "              num_parallel_tree=None, random_state=None, ...)"
      ]
     },
     "execution_count": 59,
     "metadata": {},
     "output_type": "execute_result"
    }
   ],
   "source": [
    "## XGBOOST without SMOTE######\n",
    "###############################\n",
    "\n",
    "import xgboost as xgb\n",
    "#Creating an XGBoost classifier\n",
    "model = xgb.XGBClassifier(tree_method=\"hist\", enable_categorical=True, device=\"cuda\")\n",
    "#Training the model on the training data\n",
    "model.fit(X_train, y_train)\n",
    "\n"
   ]
  },
  {
   "cell_type": "code",
   "execution_count": 60,
   "id": "2028d680",
   "metadata": {},
   "outputs": [
    {
     "name": "stdout",
     "output_type": "stream",
     "text": [
      "Model accuracy score: 0.8400\n",
      "Precision : 0.8869\n",
      "Recall or Sensitivity : 0.8765\n",
      "f1_score : 0.8817\n",
      "ROC AUC : 0.9132\n"
     ]
    },
    {
     "data": {
      "text/plain": [
       "<AxesSubplot:>"
      ]
     },
     "execution_count": 60,
     "metadata": {},
     "output_type": "execute_result"
    },
    {
     "data": {
      "image/png": "[encoded data removed]",
      "text/plain": [
       "<Figure size 432x288 with 2 Axes>"
      ]
     },
     "metadata": {
      "needs_background": "light"
     },
     "output_type": "display_data"
    }
   ],
   "source": [
    "y_pred_test = model.predict(X_test)\n",
    "y_pred1 = model.predict_proba(X_test)[:, 1]\n",
    "cm = confusion_matrix(y_test, y_pred_test)\n",
    "print('Model accuracy score: {0:0.4f}'. format(accuracy_score(y_test, y_pred_test)))\n",
    "TP = cm[0,0]\n",
    "TN = cm[1,1]\n",
    "FP = cm[0,1]\n",
    "FN = cm[1,0]\n",
    "# print precision score\n",
    "\n",
    "precision = TP / float(TP + FP)\n",
    "print('Precision : {0:0.4f}'.format(precision))\n",
    "recall = TP / float(TP + FN)\n",
    "\n",
    "print('Recall or Sensitivity : {0:0.4f}'.format(recall))\n",
    "## f1-score\n",
    "f1_score=2/((1/precision)+(1/recall))\n",
    "print('f1_score : {0:0.4f}'.format(f1_score))\n",
    "ROC_AUC = roc_auc_score(y_test, y_pred1)\n",
    "\n",
    "print('ROC AUC : {:.4f}'.format(ROC_AUC))\n",
    "# visualize confusion matrix with seaborn heatmap\n",
    "\n",
    "cm_matrix = pd.DataFrame(data=cm, columns=['Actual Positive:1', 'Actual Negative:0'], \n",
    "                                 index=['Predict Positive:1', 'Predict Negative:0'])\n",
    "\n",
    "sns.heatmap(cm_matrix, annot=True, fmt='d', cmap='YlGnBu')"
   ]
  },
  {
   "cell_type": "code",
   "execution_count": null,
   "id": "a602e047",
   "metadata": {},
   "outputs": [],
   "source": [
    "## Xgboost with SMOTE########\n",
    "############################################"
   ]
  },
  {
   "cell_type": "code",
   "execution_count": 61,
   "id": "0064f942",
   "metadata": {},
   "outputs": [
    {
     "data": {
      "text/plain": [
       "XGBClassifier(base_score=None, booster=None, callbacks=None,\n",
       "              colsample_bylevel=None, colsample_bynode=None,\n",
       "              colsample_bytree=None, device='cuda', early_stopping_rounds=None,\n",
       "              enable_categorical=True, eval_metric=None, feature_types=None,\n",
       "              gamma=None, grow_policy=None, importance_type=None,\n",
       "              interaction_constraints=None, learning_rate=None, max_bin=None,\n",
       "              max_cat_threshold=None, max_cat_to_onehot=None,\n",
       "              max_delta_step=None, max_depth=None, max_leaves=None,\n",
       "              min_child_weight=None, missing=nan, monotone_constraints=None,\n",
       "              multi_strategy=None, n_estimators=None, n_jobs=None,\n",
       "              num_parallel_tree=None, random_state=None, ...)"
      ]
     },
     "execution_count": 61,
     "metadata": {},
     "output_type": "execute_result"
    }
   ],
   "source": [
    "#Creating an XGBoost classifier\n",
    "model = xgb.XGBClassifier(tree_method=\"hist\", enable_categorical=True, device=\"cuda\")\n",
    "#Training the model on the training data\n",
    "model.fit(X_train_sm, y_train_sm)\n",
    "\n"
   ]
  },
  {
   "cell_type": "code",
   "execution_count": null,
   "id": "27989de6",
   "metadata": {},
   "outputs": [],
   "source": []
  },
  {
   "cell_type": "code",
   "execution_count": 62,
   "id": "7eb8d016",
   "metadata": {},
   "outputs": [
    {
     "name": "stdout",
     "output_type": "stream",
     "text": [
      "Model accuracy score: 0.8435\n",
      "Precision : 0.8787\n",
      "Recall or Sensitivity : 0.8873\n",
      "f1_score : 0.8830\n",
      "ROC AUC : 0.9121\n"
     ]
    },
    {
     "data": {
      "text/plain": [
       "<AxesSubplot:>"
      ]
     },
     "execution_count": 62,
     "metadata": {},
     "output_type": "execute_result"
    },
    {
     "data": {
      "image/png": "[encoded data removed]",
      "text/plain": [
       "<Figure size 432x288 with 2 Axes>"
      ]
     },
     "metadata": {
      "needs_background": "light"
     },
     "output_type": "display_data"
    }
   ],
   "source": [
    "y_pred_test = model.predict(X_test)\n",
    "y_pred1 = model.predict_proba(X_test)[:, 1]\n",
    "cm = confusion_matrix(y_test, y_pred_test)\n",
    "print('Model accuracy score: {0:0.4f}'. format(accuracy_score(y_test, y_pred_test)))\n",
    "TP = cm[0,0]\n",
    "TN = cm[1,1]\n",
    "FP = cm[0,1]\n",
    "FN = cm[1,0]\n",
    "# print precision score\n",
    "\n",
    "precision = TP / float(TP + FP)\n",
    "print('Precision : {0:0.4f}'.format(precision))\n",
    "recall = TP / float(TP + FN)\n",
    "\n",
    "print('Recall or Sensitivity : {0:0.4f}'.format(recall))\n",
    "## f1-score\n",
    "f1_score=2/((1/precision)+(1/recall))\n",
    "print('f1_score : {0:0.4f}'.format(f1_score))\n",
    "ROC_AUC = roc_auc_score(y_test, y_pred1)\n",
    "\n",
    "print('ROC AUC : {:.4f}'.format(ROC_AUC))\n",
    "# visualize confusion matrix with seaborn heatmap\n",
    "\n",
    "cm_matrix = pd.DataFrame(data=cm, columns=['Actual Positive:1', 'Actual Negative:0'], \n",
    "                                 index=['Predict Positive:1', 'Predict Negative:0'])\n",
    "\n",
    "sns.heatmap(cm_matrix, annot=True, fmt='d', cmap='YlGnBu')"
   ]
  },
  {
   "cell_type": "markdown",
   "id": "a7efaf0d",
   "metadata": {},
   "source": [
    "## Conclusion\n",
    "After checking several models with or without oversampling, we have found that logistics regression is producing the best predictive model. The other models are also close enough."
   ]
  }
 ],
 "metadata": {
  "kernelspec": {
   "display_name": "Python 3 (ipykernel)",
   "language": "python",
   "name": "python3"
  },
  "language_info": {
   "codemirror_mode": {
    "name": "ipython",
    "version": 3
   },
   "file_extension": ".py",
   "mimetype": "text/x-python",
   "name": "python",
   "nbconvert_exporter": "python",
   "pygments_lexer": "ipython3",
   "version": "3.9.12"
  }
 },
 "nbformat": 4,
 "nbformat_minor": 5
}
